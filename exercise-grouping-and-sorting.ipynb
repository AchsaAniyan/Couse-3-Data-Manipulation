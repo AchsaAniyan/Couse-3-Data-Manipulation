{
 "cells": [
  {
   "cell_type": "markdown",
   "id": "900ce0c1",
   "metadata": {
    "papermill": {
     "duration": 0.008176,
     "end_time": "2023-12-02T14:40:29.278363",
     "exception": false,
     "start_time": "2023-12-02T14:40:29.270187",
     "status": "completed"
    },
    "tags": []
   },
   "source": [
    "**This notebook is an exercise in the [Pandas](https://www.kaggle.com/learn/pandas) course.  You can reference the tutorial at [this link](https://www.kaggle.com/residentmario/grouping-and-sorting).**\n",
    "\n",
    "---\n"
   ]
  },
  {
   "cell_type": "markdown",
   "id": "9ce599c6",
   "metadata": {
    "papermill": {
     "duration": 0.005376,
     "end_time": "2023-12-02T14:40:29.290317",
     "exception": false,
     "start_time": "2023-12-02T14:40:29.284941",
     "status": "completed"
    },
    "tags": []
   },
   "source": [
    "# Introduction\n",
    "\n",
    "In these exercises we'll apply groupwise analysis to our dataset.\n",
    "\n",
    "Run the code cell below to load the data before running the exercises."
   ]
  },
  {
   "cell_type": "code",
   "execution_count": 1,
   "id": "525b96f3",
   "metadata": {
    "execution": {
     "iopub.execute_input": "2023-12-02T14:40:29.303165Z",
     "iopub.status.busy": "2023-12-02T14:40:29.302507Z",
     "iopub.status.idle": "2023-12-02T14:40:32.364822Z",
     "shell.execute_reply": "2023-12-02T14:40:32.363710Z"
    },
    "papermill": {
     "duration": 3.07168,
     "end_time": "2023-12-02T14:40:32.367338",
     "exception": false,
     "start_time": "2023-12-02T14:40:29.295658",
     "status": "completed"
    },
    "tags": []
   },
   "outputs": [
    {
     "name": "stdout",
     "output_type": "stream",
     "text": [
      "Setup complete.\n"
     ]
    }
   ],
   "source": [
    "import pandas as pd\n",
    "\n",
    "reviews = pd.read_csv(\"../input/wine-reviews/winemag-data-130k-v2.csv\", index_col=0)\n",
    "#pd.set_option(\"display.max_rows\", 5)\n",
    "\n",
    "from learntools.core import binder; binder.bind(globals())\n",
    "from learntools.pandas.grouping_and_sorting import *\n",
    "print(\"Setup complete.\")"
   ]
  },
  {
   "cell_type": "markdown",
   "id": "bd28f570",
   "metadata": {
    "papermill": {
     "duration": 0.00499,
     "end_time": "2023-12-02T14:40:32.378630",
     "exception": false,
     "start_time": "2023-12-02T14:40:32.373640",
     "status": "completed"
    },
    "tags": []
   },
   "source": [
    "# Exercises"
   ]
  },
  {
   "cell_type": "markdown",
   "id": "9917baf1",
   "metadata": {
    "papermill": {
     "duration": 0.005046,
     "end_time": "2023-12-02T14:40:32.388783",
     "exception": false,
     "start_time": "2023-12-02T14:40:32.383737",
     "status": "completed"
    },
    "tags": []
   },
   "source": [
    "## 1.\n",
    "Who are the most common wine reviewers in the dataset? Create a `Series` whose index is the `taster_twitter_handle` category from the dataset, and whose values count how many reviews each person wrote."
   ]
  },
  {
   "cell_type": "code",
   "execution_count": 2,
   "id": "2540cee1",
   "metadata": {
    "execution": {
     "iopub.execute_input": "2023-12-02T14:40:32.402318Z",
     "iopub.status.busy": "2023-12-02T14:40:32.401922Z",
     "iopub.status.idle": "2023-12-02T14:40:32.426675Z",
     "shell.execute_reply": "2023-12-02T14:40:32.424523Z"
    },
    "papermill": {
     "duration": 0.035405,
     "end_time": "2023-12-02T14:40:32.430179",
     "exception": false,
     "start_time": "2023-12-02T14:40:32.394774",
     "status": "completed"
    },
    "tags": []
   },
   "outputs": [
    {
     "data": {
      "application/javascript": [
       "parent.postMessage({\"jupyterEvent\": \"custom.exercise_interaction\", \"data\": {\"outcomeType\": 1, \"valueTowardsCompletion\": 0.16666666666666666, \"interactionType\": 1, \"questionType\": 1, \"questionId\": \"1_ReviewsWritten\", \"learnToolsVersion\": \"0.3.4\", \"failureMessage\": \"\", \"exceptionClass\": \"\", \"trace\": \"\"}}, \"*\")"
      ],
      "text/plain": [
       "<IPython.core.display.Javascript object>"
      ]
     },
     "metadata": {},
     "output_type": "display_data"
    },
    {
     "data": {
      "text/markdown": [
       "<span style=\"color:#33cc33\">Correct:</span> \n",
       "\n",
       "\n",
       "```python\n",
       "reviews_written = reviews.groupby('taster_twitter_handle').size()\n",
       "```\n",
       "or\n",
       "```python\n",
       "reviews_written = reviews.groupby('taster_twitter_handle').taster_twitter_handle.count()\n",
       "```\n"
      ],
      "text/plain": [
       "Correct: \n",
       "\n",
       "\n",
       "```python\n",
       "reviews_written = reviews.groupby('taster_twitter_handle').size()\n",
       "```\n",
       "or\n",
       "```python\n",
       "reviews_written = reviews.groupby('taster_twitter_handle').taster_twitter_handle.count()\n",
       "```"
      ]
     },
     "metadata": {},
     "output_type": "display_data"
    }
   ],
   "source": [
    "# Your code here\n",
    "reviews_written = reviews.groupby('taster_twitter_handle').size()\n",
    "\n",
    "# Check your answer\n",
    "q1.check()"
   ]
  },
  {
   "cell_type": "code",
   "execution_count": 3,
   "id": "5fad0d5d",
   "metadata": {
    "execution": {
     "iopub.execute_input": "2023-12-02T14:40:32.447129Z",
     "iopub.status.busy": "2023-12-02T14:40:32.446719Z",
     "iopub.status.idle": "2023-12-02T14:40:32.452613Z",
     "shell.execute_reply": "2023-12-02T14:40:32.451502Z"
    },
    "papermill": {
     "duration": 0.018681,
     "end_time": "2023-12-02T14:40:32.454948",
     "exception": false,
     "start_time": "2023-12-02T14:40:32.436267",
     "status": "completed"
    },
    "tags": []
   },
   "outputs": [],
   "source": [
    "# q1.hint()\n",
    "# q1.solution()"
   ]
  },
  {
   "cell_type": "markdown",
   "id": "196ecead",
   "metadata": {
    "papermill": {
     "duration": 0.007794,
     "end_time": "2023-12-02T14:40:32.470137",
     "exception": false,
     "start_time": "2023-12-02T14:40:32.462343",
     "status": "completed"
    },
    "tags": []
   },
   "source": [
    "## 2.\n",
    "What is the best wine I can buy for a given amount of money? Create a `Series` whose index is wine prices and whose values is the maximum number of points a wine costing that much was given in a review. Sort the values by price, ascending (so that `4.0` dollars is at the top and `3300.0` dollars is at the bottom)."
   ]
  },
  {
   "cell_type": "code",
   "execution_count": 4,
   "id": "7f347804",
   "metadata": {
    "execution": {
     "iopub.execute_input": "2023-12-02T14:40:32.483894Z",
     "iopub.status.busy": "2023-12-02T14:40:32.483466Z",
     "iopub.status.idle": "2023-12-02T14:40:32.497497Z",
     "shell.execute_reply": "2023-12-02T14:40:32.496338Z"
    },
    "papermill": {
     "duration": 0.023752,
     "end_time": "2023-12-02T14:40:32.499895",
     "exception": false,
     "start_time": "2023-12-02T14:40:32.476143",
     "status": "completed"
    },
    "tags": []
   },
   "outputs": [
    {
     "data": {
      "application/javascript": [
       "parent.postMessage({\"jupyterEvent\": \"custom.exercise_interaction\", \"data\": {\"outcomeType\": 1, \"valueTowardsCompletion\": 0.16666666666666666, \"interactionType\": 1, \"questionType\": 1, \"questionId\": \"2_BestRatingPerPrice\", \"learnToolsVersion\": \"0.3.4\", \"failureMessage\": \"\", \"exceptionClass\": \"\", \"trace\": \"\"}}, \"*\")"
      ],
      "text/plain": [
       "<IPython.core.display.Javascript object>"
      ]
     },
     "metadata": {},
     "output_type": "display_data"
    },
    {
     "data": {
      "text/markdown": [
       "<span style=\"color:#33cc33\">Correct</span>"
      ],
      "text/plain": [
       "Correct"
      ]
     },
     "metadata": {},
     "output_type": "display_data"
    }
   ],
   "source": [
    "best_rating_per_price = best_rating_per_price = reviews.groupby('price')['points'].max().sort_index()\n",
    "\n",
    "# Check your answer\n",
    "q2.check()"
   ]
  },
  {
   "cell_type": "code",
   "execution_count": 5,
   "id": "84d1b238",
   "metadata": {
    "execution": {
     "iopub.execute_input": "2023-12-02T14:40:32.515941Z",
     "iopub.status.busy": "2023-12-02T14:40:32.515297Z",
     "iopub.status.idle": "2023-12-02T14:40:32.521229Z",
     "shell.execute_reply": "2023-12-02T14:40:32.519341Z"
    },
    "papermill": {
     "duration": 0.018313,
     "end_time": "2023-12-02T14:40:32.525246",
     "exception": false,
     "start_time": "2023-12-02T14:40:32.506933",
     "status": "completed"
    },
    "tags": []
   },
   "outputs": [],
   "source": [
    "# q2.hint()\n",
    "# q2.solution()"
   ]
  },
  {
   "cell_type": "markdown",
   "id": "97cf1cc5",
   "metadata": {
    "papermill": {
     "duration": 0.006103,
     "end_time": "2023-12-02T14:40:32.539146",
     "exception": false,
     "start_time": "2023-12-02T14:40:32.533043",
     "status": "completed"
    },
    "tags": []
   },
   "source": [
    "## 3.\n",
    "What are the minimum and maximum prices for each `variety` of wine? Create a `DataFrame` whose index is the `variety` category from the dataset and whose values are the `min` and `max` values thereof."
   ]
  },
  {
   "cell_type": "code",
   "execution_count": 6,
   "id": "12707468",
   "metadata": {
    "execution": {
     "iopub.execute_input": "2023-12-02T14:40:32.556295Z",
     "iopub.status.busy": "2023-12-02T14:40:32.555930Z",
     "iopub.status.idle": "2023-12-02T14:40:32.578543Z",
     "shell.execute_reply": "2023-12-02T14:40:32.577596Z"
    },
    "papermill": {
     "duration": 0.032828,
     "end_time": "2023-12-02T14:40:32.580994",
     "exception": false,
     "start_time": "2023-12-02T14:40:32.548166",
     "status": "completed"
    },
    "tags": []
   },
   "outputs": [
    {
     "data": {
      "application/javascript": [
       "parent.postMessage({\"jupyterEvent\": \"custom.exercise_interaction\", \"data\": {\"outcomeType\": 1, \"valueTowardsCompletion\": 0.16666666666666666, \"interactionType\": 1, \"questionType\": 1, \"questionId\": \"3_PriceExtremes\", \"learnToolsVersion\": \"0.3.4\", \"failureMessage\": \"\", \"exceptionClass\": \"\", \"trace\": \"\"}}, \"*\")"
      ],
      "text/plain": [
       "<IPython.core.display.Javascript object>"
      ]
     },
     "metadata": {},
     "output_type": "display_data"
    },
    {
     "data": {
      "text/markdown": [
       "<span style=\"color:#33cc33\">Correct</span>"
      ],
      "text/plain": [
       "Correct"
      ]
     },
     "metadata": {},
     "output_type": "display_data"
    }
   ],
   "source": [
    "price_extremes = reviews.groupby('variety').price.agg([min, max])\n",
    "\n",
    "# Check your answer\n",
    "q3.check()"
   ]
  },
  {
   "cell_type": "code",
   "execution_count": 7,
   "id": "7be6cd0f",
   "metadata": {
    "execution": {
     "iopub.execute_input": "2023-12-02T14:40:32.595314Z",
     "iopub.status.busy": "2023-12-02T14:40:32.594898Z",
     "iopub.status.idle": "2023-12-02T14:40:32.600228Z",
     "shell.execute_reply": "2023-12-02T14:40:32.598695Z"
    },
    "papermill": {
     "duration": 0.015171,
     "end_time": "2023-12-02T14:40:32.602407",
     "exception": false,
     "start_time": "2023-12-02T14:40:32.587236",
     "status": "completed"
    },
    "tags": []
   },
   "outputs": [],
   "source": [
    "# q3.hint()\n",
    "# q3.solution()"
   ]
  },
  {
   "cell_type": "markdown",
   "id": "c6b66fad",
   "metadata": {
    "papermill": {
     "duration": 0.006119,
     "end_time": "2023-12-02T14:40:32.615086",
     "exception": false,
     "start_time": "2023-12-02T14:40:32.608967",
     "status": "completed"
    },
    "tags": []
   },
   "source": [
    "## 4.\n",
    "What are the most expensive wine varieties? Create a variable `sorted_varieties` containing a copy of the dataframe from the previous question where varieties are sorted in descending order based on minimum price, then on maximum price (to break ties)."
   ]
  },
  {
   "cell_type": "code",
   "execution_count": 8,
   "id": "20d39085",
   "metadata": {
    "execution": {
     "iopub.execute_input": "2023-12-02T14:40:32.629021Z",
     "iopub.status.busy": "2023-12-02T14:40:32.628696Z",
     "iopub.status.idle": "2023-12-02T14:40:32.643316Z",
     "shell.execute_reply": "2023-12-02T14:40:32.641555Z"
    },
    "papermill": {
     "duration": 0.024576,
     "end_time": "2023-12-02T14:40:32.646174",
     "exception": false,
     "start_time": "2023-12-02T14:40:32.621598",
     "status": "completed"
    },
    "tags": []
   },
   "outputs": [
    {
     "data": {
      "application/javascript": [
       "parent.postMessage({\"jupyterEvent\": \"custom.exercise_interaction\", \"data\": {\"outcomeType\": 1, \"valueTowardsCompletion\": 0.16666666666666666, \"interactionType\": 1, \"questionType\": 1, \"questionId\": \"4_SortedVarieties\", \"learnToolsVersion\": \"0.3.4\", \"failureMessage\": \"\", \"exceptionClass\": \"\", \"trace\": \"\"}}, \"*\")"
      ],
      "text/plain": [
       "<IPython.core.display.Javascript object>"
      ]
     },
     "metadata": {},
     "output_type": "display_data"
    },
    {
     "data": {
      "text/markdown": [
       "<span style=\"color:#33cc33\">Correct</span>"
      ],
      "text/plain": [
       "Correct"
      ]
     },
     "metadata": {},
     "output_type": "display_data"
    }
   ],
   "source": [
    "sorted_varieties = price_extremes.sort_values(by=['min', 'max'], ascending=False)\n",
    "\n",
    "# Check your answer\n",
    "q4.check()"
   ]
  },
  {
   "cell_type": "code",
   "execution_count": 9,
   "id": "7003bb46",
   "metadata": {
    "execution": {
     "iopub.execute_input": "2023-12-02T14:40:32.660926Z",
     "iopub.status.busy": "2023-12-02T14:40:32.660528Z",
     "iopub.status.idle": "2023-12-02T14:40:32.666637Z",
     "shell.execute_reply": "2023-12-02T14:40:32.665272Z"
    },
    "papermill": {
     "duration": 0.016764,
     "end_time": "2023-12-02T14:40:32.669597",
     "exception": false,
     "start_time": "2023-12-02T14:40:32.652833",
     "status": "completed"
    },
    "tags": []
   },
   "outputs": [],
   "source": [
    "# q4.hint()\n",
    "# q4.solution()"
   ]
  },
  {
   "cell_type": "markdown",
   "id": "9037a247",
   "metadata": {
    "papermill": {
     "duration": 0.005889,
     "end_time": "2023-12-02T14:40:32.682007",
     "exception": false,
     "start_time": "2023-12-02T14:40:32.676118",
     "status": "completed"
    },
    "tags": []
   },
   "source": [
    "## 5.\n",
    "Create a `Series` whose index is reviewers and whose values is the average review score given out by that reviewer. Hint: you will need the `taster_name` and `points` columns."
   ]
  },
  {
   "cell_type": "code",
   "execution_count": 10,
   "id": "5c1d6706",
   "metadata": {
    "execution": {
     "iopub.execute_input": "2023-12-02T14:40:32.696228Z",
     "iopub.status.busy": "2023-12-02T14:40:32.695829Z",
     "iopub.status.idle": "2023-12-02T14:40:32.717241Z",
     "shell.execute_reply": "2023-12-02T14:40:32.715800Z"
    },
    "papermill": {
     "duration": 0.031654,
     "end_time": "2023-12-02T14:40:32.719979",
     "exception": false,
     "start_time": "2023-12-02T14:40:32.688325",
     "status": "completed"
    },
    "tags": []
   },
   "outputs": [
    {
     "data": {
      "application/javascript": [
       "parent.postMessage({\"jupyterEvent\": \"custom.exercise_interaction\", \"data\": {\"outcomeType\": 1, \"valueTowardsCompletion\": 0.16666666666666666, \"interactionType\": 1, \"questionType\": 1, \"questionId\": \"5_ReviewerMeanRatings\", \"learnToolsVersion\": \"0.3.4\", \"failureMessage\": \"\", \"exceptionClass\": \"\", \"trace\": \"\"}}, \"*\")"
      ],
      "text/plain": [
       "<IPython.core.display.Javascript object>"
      ]
     },
     "metadata": {},
     "output_type": "display_data"
    },
    {
     "data": {
      "text/markdown": [
       "<span style=\"color:#33cc33\">Correct</span>"
      ],
      "text/plain": [
       "Correct"
      ]
     },
     "metadata": {},
     "output_type": "display_data"
    }
   ],
   "source": [
    "reviewer_mean_ratings = reviews.groupby('taster_name').points.mean()\n",
    "\n",
    "# Check your answer\n",
    "q5.check()"
   ]
  },
  {
   "cell_type": "code",
   "execution_count": 11,
   "id": "2c8696c7",
   "metadata": {
    "execution": {
     "iopub.execute_input": "2023-12-02T14:40:32.735718Z",
     "iopub.status.busy": "2023-12-02T14:40:32.735325Z",
     "iopub.status.idle": "2023-12-02T14:40:32.740178Z",
     "shell.execute_reply": "2023-12-02T14:40:32.738874Z"
    },
    "papermill": {
     "duration": 0.01595,
     "end_time": "2023-12-02T14:40:32.742873",
     "exception": false,
     "start_time": "2023-12-02T14:40:32.726923",
     "status": "completed"
    },
    "tags": []
   },
   "outputs": [],
   "source": [
    "# q5.hint()\n",
    "# q5.solution()"
   ]
  },
  {
   "cell_type": "markdown",
   "id": "2d4b06b7",
   "metadata": {
    "papermill": {
     "duration": 0.00608,
     "end_time": "2023-12-02T14:40:32.755931",
     "exception": false,
     "start_time": "2023-12-02T14:40:32.749851",
     "status": "completed"
    },
    "tags": []
   },
   "source": [
    "Are there significant differences in the average scores assigned by the various reviewers? Run the cell below to use the `describe()` method to see a summary of the range of values."
   ]
  },
  {
   "cell_type": "code",
   "execution_count": 12,
   "id": "96a1c551",
   "metadata": {
    "execution": {
     "iopub.execute_input": "2023-12-02T14:40:32.770785Z",
     "iopub.status.busy": "2023-12-02T14:40:32.770361Z",
     "iopub.status.idle": "2023-12-02T14:40:32.783361Z",
     "shell.execute_reply": "2023-12-02T14:40:32.782218Z"
    },
    "papermill": {
     "duration": 0.023494,
     "end_time": "2023-12-02T14:40:32.785730",
     "exception": false,
     "start_time": "2023-12-02T14:40:32.762236",
     "status": "completed"
    },
    "tags": []
   },
   "outputs": [
    {
     "data": {
      "text/plain": [
       "count    19.000000\n",
       "mean     88.233026\n",
       "std       1.243610\n",
       "min      85.855422\n",
       "25%      87.323501\n",
       "50%      88.536235\n",
       "75%      88.975256\n",
       "max      90.562551\n",
       "Name: points, dtype: float64"
      ]
     },
     "execution_count": 12,
     "metadata": {},
     "output_type": "execute_result"
    }
   ],
   "source": [
    "reviewer_mean_ratings.describe()"
   ]
  },
  {
   "cell_type": "markdown",
   "id": "b8164bc1",
   "metadata": {
    "papermill": {
     "duration": 0.009309,
     "end_time": "2023-12-02T14:40:32.803352",
     "exception": false,
     "start_time": "2023-12-02T14:40:32.794043",
     "status": "completed"
    },
    "tags": []
   },
   "source": [
    "## 6.\n",
    "What combination of countries and varieties are most common? Create a `Series` whose index is a `MultiIndex`of `{country, variety}` pairs. For example, a pinot noir produced in the US should map to `{\"US\", \"Pinot Noir\"}`. Sort the values in the `Series` in descending order based on wine count."
   ]
  },
  {
   "cell_type": "code",
   "execution_count": 13,
   "id": "e5fb7a85",
   "metadata": {
    "execution": {
     "iopub.execute_input": "2023-12-02T14:40:32.822225Z",
     "iopub.status.busy": "2023-12-02T14:40:32.821852Z",
     "iopub.status.idle": "2023-12-02T14:40:32.858925Z",
     "shell.execute_reply": "2023-12-02T14:40:32.857217Z"
    },
    "papermill": {
     "duration": 0.049934,
     "end_time": "2023-12-02T14:40:32.861787",
     "exception": false,
     "start_time": "2023-12-02T14:40:32.811853",
     "status": "completed"
    },
    "tags": []
   },
   "outputs": [
    {
     "data": {
      "application/javascript": [
       "parent.postMessage({\"jupyterEvent\": \"custom.exercise_interaction\", \"data\": {\"outcomeType\": 1, \"valueTowardsCompletion\": 0.16666666666666666, \"interactionType\": 1, \"questionType\": 1, \"questionId\": \"6_GroupbyCountryVariety\", \"learnToolsVersion\": \"0.3.4\", \"failureMessage\": \"\", \"exceptionClass\": \"\", \"trace\": \"\"}}, \"*\")"
      ],
      "text/plain": [
       "<IPython.core.display.Javascript object>"
      ]
     },
     "metadata": {},
     "output_type": "display_data"
    },
    {
     "data": {
      "text/markdown": [
       "<span style=\"color:#33cc33\">Correct</span>"
      ],
      "text/plain": [
       "Correct"
      ]
     },
     "metadata": {},
     "output_type": "display_data"
    }
   ],
   "source": [
    "country_variety_counts = reviews.groupby(['country', 'variety']).size().sort_values(ascending=False)\n",
    "\n",
    "# Check your answer\n",
    "q6.check()"
   ]
  },
  {
   "cell_type": "code",
   "execution_count": 14,
   "id": "52d2c326",
   "metadata": {
    "execution": {
     "iopub.execute_input": "2023-12-02T14:40:32.878117Z",
     "iopub.status.busy": "2023-12-02T14:40:32.877761Z",
     "iopub.status.idle": "2023-12-02T14:40:32.883125Z",
     "shell.execute_reply": "2023-12-02T14:40:32.881557Z"
    },
    "papermill": {
     "duration": 0.01637,
     "end_time": "2023-12-02T14:40:32.885621",
     "exception": false,
     "start_time": "2023-12-02T14:40:32.869251",
     "status": "completed"
    },
    "tags": []
   },
   "outputs": [],
   "source": [
    "# q6.hint()\n",
    "# q6.solution()"
   ]
  },
  {
   "cell_type": "markdown",
   "id": "cfc3fd88",
   "metadata": {
    "papermill": {
     "duration": 0.006475,
     "end_time": "2023-12-02T14:40:32.899341",
     "exception": false,
     "start_time": "2023-12-02T14:40:32.892866",
     "status": "completed"
    },
    "tags": []
   },
   "source": [
    "# Keep going\n",
    "\n",
    "Move on to the [**data types and missing data**](https://www.kaggle.com/residentmario/data-types-and-missing-values)."
   ]
  },
  {
   "cell_type": "markdown",
   "id": "b3f6a3b2",
   "metadata": {
    "papermill": {
     "duration": 0.006405,
     "end_time": "2023-12-02T14:40:32.912298",
     "exception": false,
     "start_time": "2023-12-02T14:40:32.905893",
     "status": "completed"
    },
    "tags": []
   },
   "source": [
    "---\n",
    "\n",
    "\n",
    "\n",
    "\n",
    "*Have questions or comments? Visit the [course discussion forum](https://www.kaggle.com/learn/pandas/discussion) to chat with other learners.*"
   ]
  }
 ],
 "metadata": {
  "kaggle": {
   "accelerator": "none",
   "dataSources": [
    {
     "datasetId": 655,
     "sourceId": 1252,
     "sourceType": "datasetVersion"
    },
    {
     "datasetId": 2321,
     "sourceId": 3919,
     "sourceType": "datasetVersion"
    },
    {
     "datasetId": 2894,
     "sourceId": 4877,
     "sourceType": "datasetVersion"
    },
    {
     "datasetId": 3491,
     "sourceId": 5624,
     "sourceType": "datasetVersion"
    },
    {
     "datasetId": 1442,
     "sourceId": 8172,
     "sourceType": "datasetVersion"
    },
    {
     "datasetId": 9366,
     "sourceId": 13206,
     "sourceType": "datasetVersion"
    },
    {
     "datasetId": 179555,
     "sourceId": 403916,
     "sourceType": "datasetVersion"
    },
    {
     "datasetId": 4549,
     "sourceId": 466349,
     "sourceType": "datasetVersion"
    },
    {
     "datasetId": 2478,
     "sourceId": 1151655,
     "sourceType": "datasetVersion"
    },
    {
     "datasetId": 10128,
     "sourceId": 5438389,
     "sourceType": "datasetVersion"
    }
   ],
   "isGpuEnabled": false,
   "isInternetEnabled": false,
   "language": "python",
   "sourceType": "notebook"
  },
  "kernelspec": {
   "display_name": "Python 3",
   "language": "python",
   "name": "python3"
  },
  "language_info": {
   "codemirror_mode": {
    "name": "ipython",
    "version": 3
   },
   "file_extension": ".py",
   "mimetype": "text/x-python",
   "name": "python",
   "nbconvert_exporter": "python",
   "pygments_lexer": "ipython3",
   "version": "3.10.12"
  },
  "papermill": {
   "default_parameters": {},
   "duration": 6.891126,
   "end_time": "2023-12-02T14:40:33.440526",
   "environment_variables": {},
   "exception": null,
   "input_path": "__notebook__.ipynb",
   "output_path": "__notebook__.ipynb",
   "parameters": {},
   "start_time": "2023-12-02T14:40:26.549400",
   "version": "2.4.0"
  }
 },
 "nbformat": 4,
 "nbformat_minor": 5
}
