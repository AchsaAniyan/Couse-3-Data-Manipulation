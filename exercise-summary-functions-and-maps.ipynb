{
 "cells": [
  {
   "cell_type": "markdown",
   "id": "b060379d",
   "metadata": {
    "papermill": {
     "duration": 0.008189,
     "end_time": "2023-12-02T14:32:07.475828",
     "exception": false,
     "start_time": "2023-12-02T14:32:07.467639",
     "status": "completed"
    },
    "tags": []
   },
   "source": [
    "**This notebook is an exercise in the [Pandas](https://www.kaggle.com/learn/pandas) course.  You can reference the tutorial at [this link](https://www.kaggle.com/residentmario/summary-functions-and-maps).**\n",
    "\n",
    "---\n"
   ]
  },
  {
   "cell_type": "markdown",
   "id": "0bfc6c73",
   "metadata": {
    "papermill": {
     "duration": 0.006362,
     "end_time": "2023-12-02T14:32:07.488915",
     "exception": false,
     "start_time": "2023-12-02T14:32:07.482553",
     "status": "completed"
    },
    "tags": []
   },
   "source": [
    "# Introduction\n",
    "\n",
    "Now you are ready to get a deeper understanding of your data.\n",
    "\n",
    "Run the following cell to load your data and some utility functions (including code to check your answers)."
   ]
  },
  {
   "cell_type": "code",
   "execution_count": 1,
   "id": "78680654",
   "metadata": {
    "execution": {
     "iopub.execute_input": "2023-12-02T14:32:07.502833Z",
     "iopub.status.busy": "2023-12-02T14:32:07.502426Z",
     "iopub.status.idle": "2023-12-02T14:32:14.350028Z",
     "shell.execute_reply": "2023-12-02T14:32:14.348942Z"
    },
    "papermill": {
     "duration": 6.857911,
     "end_time": "2023-12-02T14:32:14.352831",
     "exception": false,
     "start_time": "2023-12-02T14:32:07.494920",
     "status": "completed"
    },
    "tags": []
   },
   "outputs": [
    {
     "name": "stdout",
     "output_type": "stream",
     "text": [
      "Setup complete.\n"
     ]
    },
    {
     "data": {
      "text/html": [
       "<div>\n",
       "<style scoped>\n",
       "    .dataframe tbody tr th:only-of-type {\n",
       "        vertical-align: middle;\n",
       "    }\n",
       "\n",
       "    .dataframe tbody tr th {\n",
       "        vertical-align: top;\n",
       "    }\n",
       "\n",
       "    .dataframe thead th {\n",
       "        text-align: right;\n",
       "    }\n",
       "</style>\n",
       "<table border=\"1\" class=\"dataframe\">\n",
       "  <thead>\n",
       "    <tr style=\"text-align: right;\">\n",
       "      <th></th>\n",
       "      <th>country</th>\n",
       "      <th>description</th>\n",
       "      <th>designation</th>\n",
       "      <th>points</th>\n",
       "      <th>price</th>\n",
       "      <th>province</th>\n",
       "      <th>region_1</th>\n",
       "      <th>region_2</th>\n",
       "      <th>taster_name</th>\n",
       "      <th>taster_twitter_handle</th>\n",
       "      <th>title</th>\n",
       "      <th>variety</th>\n",
       "      <th>winery</th>\n",
       "    </tr>\n",
       "  </thead>\n",
       "  <tbody>\n",
       "    <tr>\n",
       "      <th>0</th>\n",
       "      <td>Italy</td>\n",
       "      <td>Aromas include tropical fruit, broom, brimston...</td>\n",
       "      <td>Vulkà Bianco</td>\n",
       "      <td>87</td>\n",
       "      <td>NaN</td>\n",
       "      <td>Sicily &amp; Sardinia</td>\n",
       "      <td>Etna</td>\n",
       "      <td>NaN</td>\n",
       "      <td>Kerin O’Keefe</td>\n",
       "      <td>@kerinokeefe</td>\n",
       "      <td>Nicosia 2013 Vulkà Bianco  (Etna)</td>\n",
       "      <td>White Blend</td>\n",
       "      <td>Nicosia</td>\n",
       "    </tr>\n",
       "    <tr>\n",
       "      <th>1</th>\n",
       "      <td>Portugal</td>\n",
       "      <td>This is ripe and fruity, a wine that is smooth...</td>\n",
       "      <td>Avidagos</td>\n",
       "      <td>87</td>\n",
       "      <td>15.0</td>\n",
       "      <td>Douro</td>\n",
       "      <td>NaN</td>\n",
       "      <td>NaN</td>\n",
       "      <td>Roger Voss</td>\n",
       "      <td>@vossroger</td>\n",
       "      <td>Quinta dos Avidagos 2011 Avidagos Red (Douro)</td>\n",
       "      <td>Portuguese Red</td>\n",
       "      <td>Quinta dos Avidagos</td>\n",
       "    </tr>\n",
       "    <tr>\n",
       "      <th>2</th>\n",
       "      <td>US</td>\n",
       "      <td>Tart and snappy, the flavors of lime flesh and...</td>\n",
       "      <td>NaN</td>\n",
       "      <td>87</td>\n",
       "      <td>14.0</td>\n",
       "      <td>Oregon</td>\n",
       "      <td>Willamette Valley</td>\n",
       "      <td>Willamette Valley</td>\n",
       "      <td>Paul Gregutt</td>\n",
       "      <td>@paulgwine</td>\n",
       "      <td>Rainstorm 2013 Pinot Gris (Willamette Valley)</td>\n",
       "      <td>Pinot Gris</td>\n",
       "      <td>Rainstorm</td>\n",
       "    </tr>\n",
       "    <tr>\n",
       "      <th>3</th>\n",
       "      <td>US</td>\n",
       "      <td>Pineapple rind, lemon pith and orange blossom ...</td>\n",
       "      <td>Reserve Late Harvest</td>\n",
       "      <td>87</td>\n",
       "      <td>13.0</td>\n",
       "      <td>Michigan</td>\n",
       "      <td>Lake Michigan Shore</td>\n",
       "      <td>NaN</td>\n",
       "      <td>Alexander Peartree</td>\n",
       "      <td>NaN</td>\n",
       "      <td>St. Julian 2013 Reserve Late Harvest Riesling ...</td>\n",
       "      <td>Riesling</td>\n",
       "      <td>St. Julian</td>\n",
       "    </tr>\n",
       "    <tr>\n",
       "      <th>4</th>\n",
       "      <td>US</td>\n",
       "      <td>Much like the regular bottling from 2012, this...</td>\n",
       "      <td>Vintner's Reserve Wild Child Block</td>\n",
       "      <td>87</td>\n",
       "      <td>65.0</td>\n",
       "      <td>Oregon</td>\n",
       "      <td>Willamette Valley</td>\n",
       "      <td>Willamette Valley</td>\n",
       "      <td>Paul Gregutt</td>\n",
       "      <td>@paulgwine</td>\n",
       "      <td>Sweet Cheeks 2012 Vintner's Reserve Wild Child...</td>\n",
       "      <td>Pinot Noir</td>\n",
       "      <td>Sweet Cheeks</td>\n",
       "    </tr>\n",
       "  </tbody>\n",
       "</table>\n",
       "</div>"
      ],
      "text/plain": [
       "    country                                        description  \\\n",
       "0     Italy  Aromas include tropical fruit, broom, brimston...   \n",
       "1  Portugal  This is ripe and fruity, a wine that is smooth...   \n",
       "2        US  Tart and snappy, the flavors of lime flesh and...   \n",
       "3        US  Pineapple rind, lemon pith and orange blossom ...   \n",
       "4        US  Much like the regular bottling from 2012, this...   \n",
       "\n",
       "                          designation  points  price           province  \\\n",
       "0                        Vulkà Bianco      87    NaN  Sicily & Sardinia   \n",
       "1                            Avidagos      87   15.0              Douro   \n",
       "2                                 NaN      87   14.0             Oregon   \n",
       "3                Reserve Late Harvest      87   13.0           Michigan   \n",
       "4  Vintner's Reserve Wild Child Block      87   65.0             Oregon   \n",
       "\n",
       "              region_1           region_2         taster_name  \\\n",
       "0                 Etna                NaN       Kerin O’Keefe   \n",
       "1                  NaN                NaN          Roger Voss   \n",
       "2    Willamette Valley  Willamette Valley        Paul Gregutt   \n",
       "3  Lake Michigan Shore                NaN  Alexander Peartree   \n",
       "4    Willamette Valley  Willamette Valley        Paul Gregutt   \n",
       "\n",
       "  taster_twitter_handle                                              title  \\\n",
       "0          @kerinokeefe                  Nicosia 2013 Vulkà Bianco  (Etna)   \n",
       "1            @vossroger      Quinta dos Avidagos 2011 Avidagos Red (Douro)   \n",
       "2           @paulgwine       Rainstorm 2013 Pinot Gris (Willamette Valley)   \n",
       "3                   NaN  St. Julian 2013 Reserve Late Harvest Riesling ...   \n",
       "4           @paulgwine   Sweet Cheeks 2012 Vintner's Reserve Wild Child...   \n",
       "\n",
       "          variety               winery  \n",
       "0     White Blend              Nicosia  \n",
       "1  Portuguese Red  Quinta dos Avidagos  \n",
       "2      Pinot Gris            Rainstorm  \n",
       "3        Riesling           St. Julian  \n",
       "4      Pinot Noir         Sweet Cheeks  "
      ]
     },
     "execution_count": 1,
     "metadata": {},
     "output_type": "execute_result"
    }
   ],
   "source": [
    "import pandas as pd\n",
    "pd.set_option(\"display.max_rows\", 5)\n",
    "reviews = pd.read_csv(\"../input/wine-reviews/winemag-data-130k-v2.csv\", index_col=0)\n",
    "\n",
    "from learntools.core import binder; binder.bind(globals())\n",
    "from learntools.pandas.summary_functions_and_maps import *\n",
    "print(\"Setup complete.\")\n",
    "\n",
    "reviews.head()"
   ]
  },
  {
   "cell_type": "markdown",
   "id": "eed023b2",
   "metadata": {
    "papermill": {
     "duration": 0.006017,
     "end_time": "2023-12-02T14:32:14.365322",
     "exception": false,
     "start_time": "2023-12-02T14:32:14.359305",
     "status": "completed"
    },
    "tags": []
   },
   "source": [
    "# Exercises"
   ]
  },
  {
   "cell_type": "markdown",
   "id": "6cec15b1",
   "metadata": {
    "papermill": {
     "duration": 0.006611,
     "end_time": "2023-12-02T14:32:14.378630",
     "exception": false,
     "start_time": "2023-12-02T14:32:14.372019",
     "status": "completed"
    },
    "tags": []
   },
   "source": [
    "## 1.\n",
    "\n",
    "What is the median of the `points` column in the `reviews` DataFrame?"
   ]
  },
  {
   "cell_type": "code",
   "execution_count": 2,
   "id": "bcd94ff7",
   "metadata": {
    "execution": {
     "iopub.execute_input": "2023-12-02T14:32:14.393625Z",
     "iopub.status.busy": "2023-12-02T14:32:14.393260Z",
     "iopub.status.idle": "2023-12-02T14:32:14.404913Z",
     "shell.execute_reply": "2023-12-02T14:32:14.403838Z"
    },
    "papermill": {
     "duration": 0.021842,
     "end_time": "2023-12-02T14:32:14.407102",
     "exception": false,
     "start_time": "2023-12-02T14:32:14.385260",
     "status": "completed"
    },
    "tags": []
   },
   "outputs": [
    {
     "data": {
      "application/javascript": [
       "parent.postMessage({\"jupyterEvent\": \"custom.exercise_interaction\", \"data\": {\"outcomeType\": 1, \"valueTowardsCompletion\": 0.14285714285714285, \"interactionType\": 1, \"questionType\": 1, \"questionId\": \"1_MedianPoints\", \"learnToolsVersion\": \"0.3.4\", \"failureMessage\": \"\", \"exceptionClass\": \"\", \"trace\": \"\"}}, \"*\")"
      ],
      "text/plain": [
       "<IPython.core.display.Javascript object>"
      ]
     },
     "metadata": {},
     "output_type": "display_data"
    },
    {
     "data": {
      "text/markdown": [
       "<span style=\"color:#33cc33\">Correct</span>"
      ],
      "text/plain": [
       "Correct"
      ]
     },
     "metadata": {},
     "output_type": "display_data"
    }
   ],
   "source": [
    "median_points = reviews.points.median()\n",
    "\n",
    "# Check your answer\n",
    "q1.check()"
   ]
  },
  {
   "cell_type": "code",
   "execution_count": 3,
   "id": "af40d0e0",
   "metadata": {
    "execution": {
     "iopub.execute_input": "2023-12-02T14:32:14.422531Z",
     "iopub.status.busy": "2023-12-02T14:32:14.422161Z",
     "iopub.status.idle": "2023-12-02T14:32:14.426314Z",
     "shell.execute_reply": "2023-12-02T14:32:14.425063Z"
    },
    "papermill": {
     "duration": 0.014612,
     "end_time": "2023-12-02T14:32:14.428678",
     "exception": false,
     "start_time": "2023-12-02T14:32:14.414066",
     "status": "completed"
    },
    "tags": []
   },
   "outputs": [],
   "source": [
    "#q1.hint()\n",
    "#q1.solution()"
   ]
  },
  {
   "cell_type": "markdown",
   "id": "bbb5d930",
   "metadata": {
    "papermill": {
     "duration": 0.006469,
     "end_time": "2023-12-02T14:32:14.442106",
     "exception": false,
     "start_time": "2023-12-02T14:32:14.435637",
     "status": "completed"
    },
    "tags": []
   },
   "source": [
    "## 2. \n",
    "What countries are represented in the dataset? (Your answer should not include any duplicates.)"
   ]
  },
  {
   "cell_type": "code",
   "execution_count": 4,
   "id": "aa3d09b8",
   "metadata": {
    "execution": {
     "iopub.execute_input": "2023-12-02T14:32:14.457211Z",
     "iopub.status.busy": "2023-12-02T14:32:14.456856Z",
     "iopub.status.idle": "2023-12-02T14:32:14.470325Z",
     "shell.execute_reply": "2023-12-02T14:32:14.469338Z"
    },
    "papermill": {
     "duration": 0.023866,
     "end_time": "2023-12-02T14:32:14.472651",
     "exception": false,
     "start_time": "2023-12-02T14:32:14.448785",
     "status": "completed"
    },
    "tags": []
   },
   "outputs": [
    {
     "data": {
      "application/javascript": [
       "parent.postMessage({\"jupyterEvent\": \"custom.exercise_interaction\", \"data\": {\"outcomeType\": 1, \"valueTowardsCompletion\": 0.14285714285714285, \"interactionType\": 1, \"questionType\": 2, \"questionId\": \"2_UniqueCountries\", \"learnToolsVersion\": \"0.3.4\", \"failureMessage\": \"\", \"exceptionClass\": \"\", \"trace\": \"\"}}, \"*\")"
      ],
      "text/plain": [
       "<IPython.core.display.Javascript object>"
      ]
     },
     "metadata": {},
     "output_type": "display_data"
    },
    {
     "data": {
      "text/markdown": [
       "<span style=\"color:#33cc33\">Correct</span>"
      ],
      "text/plain": [
       "Correct"
      ]
     },
     "metadata": {},
     "output_type": "display_data"
    }
   ],
   "source": [
    "countries = reviews.country.unique()\n",
    "\n",
    "# Check your answer\n",
    "q2.check()"
   ]
  },
  {
   "cell_type": "code",
   "execution_count": 5,
   "id": "9d545c8e",
   "metadata": {
    "execution": {
     "iopub.execute_input": "2023-12-02T14:32:14.488259Z",
     "iopub.status.busy": "2023-12-02T14:32:14.487870Z",
     "iopub.status.idle": "2023-12-02T14:32:14.495634Z",
     "shell.execute_reply": "2023-12-02T14:32:14.493711Z"
    },
    "papermill": {
     "duration": 0.019047,
     "end_time": "2023-12-02T14:32:14.498686",
     "exception": false,
     "start_time": "2023-12-02T14:32:14.479639",
     "status": "completed"
    },
    "tags": []
   },
   "outputs": [],
   "source": [
    "#q2.hint()\n",
    "#q2.solution()"
   ]
  },
  {
   "cell_type": "markdown",
   "id": "8390054c",
   "metadata": {
    "papermill": {
     "duration": 0.008302,
     "end_time": "2023-12-02T14:32:14.514546",
     "exception": false,
     "start_time": "2023-12-02T14:32:14.506244",
     "status": "completed"
    },
    "tags": []
   },
   "source": [
    "## 3.\n",
    "How often does each country appear in the dataset? Create a Series `reviews_per_country` mapping countries to the count of reviews of wines from that country."
   ]
  },
  {
   "cell_type": "code",
   "execution_count": 6,
   "id": "9efc5e89",
   "metadata": {
    "execution": {
     "iopub.execute_input": "2023-12-02T14:32:14.532979Z",
     "iopub.status.busy": "2023-12-02T14:32:14.532515Z",
     "iopub.status.idle": "2023-12-02T14:32:14.560652Z",
     "shell.execute_reply": "2023-12-02T14:32:14.559468Z"
    },
    "papermill": {
     "duration": 0.041132,
     "end_time": "2023-12-02T14:32:14.563148",
     "exception": false,
     "start_time": "2023-12-02T14:32:14.522016",
     "status": "completed"
    },
    "tags": []
   },
   "outputs": [
    {
     "data": {
      "application/javascript": [
       "parent.postMessage({\"jupyterEvent\": \"custom.exercise_interaction\", \"data\": {\"outcomeType\": 1, \"valueTowardsCompletion\": 0.14285714285714285, \"interactionType\": 1, \"questionType\": 1, \"questionId\": \"3_ReviewsPerCountry\", \"learnToolsVersion\": \"0.3.4\", \"failureMessage\": \"\", \"exceptionClass\": \"\", \"trace\": \"\"}}, \"*\")"
      ],
      "text/plain": [
       "<IPython.core.display.Javascript object>"
      ]
     },
     "metadata": {},
     "output_type": "display_data"
    },
    {
     "data": {
      "text/markdown": [
       "<span style=\"color:#33cc33\">Correct</span>"
      ],
      "text/plain": [
       "Correct"
      ]
     },
     "metadata": {},
     "output_type": "display_data"
    }
   ],
   "source": [
    "reviews_per_country = reviews.country.value_counts()\n",
    "\n",
    "# Check your answer\n",
    "q3.check()"
   ]
  },
  {
   "cell_type": "code",
   "execution_count": 7,
   "id": "c207b719",
   "metadata": {
    "execution": {
     "iopub.execute_input": "2023-12-02T14:32:14.582450Z",
     "iopub.status.busy": "2023-12-02T14:32:14.582076Z",
     "iopub.status.idle": "2023-12-02T14:32:14.585550Z",
     "shell.execute_reply": "2023-12-02T14:32:14.584819Z"
    },
    "papermill": {
     "duration": 0.015702,
     "end_time": "2023-12-02T14:32:14.588245",
     "exception": false,
     "start_time": "2023-12-02T14:32:14.572543",
     "status": "completed"
    },
    "tags": []
   },
   "outputs": [],
   "source": [
    "#q3.hint()\n",
    "#q3.solution()"
   ]
  },
  {
   "cell_type": "markdown",
   "id": "411e36cf",
   "metadata": {
    "papermill": {
     "duration": 0.006943,
     "end_time": "2023-12-02T14:32:14.603136",
     "exception": false,
     "start_time": "2023-12-02T14:32:14.596193",
     "status": "completed"
    },
    "tags": []
   },
   "source": [
    "## 4.\n",
    "Create variable `centered_price` containing a version of the `price` column with the mean price subtracted.\n",
    "\n",
    "(Note: this 'centering' transformation is a common preprocessing step before applying various machine learning algorithms.) "
   ]
  },
  {
   "cell_type": "code",
   "execution_count": 8,
   "id": "4f0cb01b",
   "metadata": {
    "execution": {
     "iopub.execute_input": "2023-12-02T14:32:14.619711Z",
     "iopub.status.busy": "2023-12-02T14:32:14.619028Z",
     "iopub.status.idle": "2023-12-02T14:32:14.628008Z",
     "shell.execute_reply": "2023-12-02T14:32:14.627213Z"
    },
    "papermill": {
     "duration": 0.019558,
     "end_time": "2023-12-02T14:32:14.629834",
     "exception": false,
     "start_time": "2023-12-02T14:32:14.610276",
     "status": "completed"
    },
    "tags": []
   },
   "outputs": [
    {
     "data": {
      "application/javascript": [
       "parent.postMessage({\"jupyterEvent\": \"custom.exercise_interaction\", \"data\": {\"outcomeType\": 1, \"valueTowardsCompletion\": 0.14285714285714285, \"interactionType\": 1, \"questionType\": 1, \"questionId\": \"4_CenteredPrice\", \"learnToolsVersion\": \"0.3.4\", \"failureMessage\": \"\", \"exceptionClass\": \"\", \"trace\": \"\"}}, \"*\")"
      ],
      "text/plain": [
       "<IPython.core.display.Javascript object>"
      ]
     },
     "metadata": {},
     "output_type": "display_data"
    },
    {
     "data": {
      "text/markdown": [
       "<span style=\"color:#33cc33\">Correct</span>"
      ],
      "text/plain": [
       "Correct"
      ]
     },
     "metadata": {},
     "output_type": "display_data"
    }
   ],
   "source": [
    "centered_price = reviews.price - reviews.price.mean()\n",
    "# Check your answer\n",
    "q4.check()"
   ]
  },
  {
   "cell_type": "code",
   "execution_count": 9,
   "id": "7972acb6",
   "metadata": {
    "execution": {
     "iopub.execute_input": "2023-12-02T14:32:14.646909Z",
     "iopub.status.busy": "2023-12-02T14:32:14.646214Z",
     "iopub.status.idle": "2023-12-02T14:32:14.650055Z",
     "shell.execute_reply": "2023-12-02T14:32:14.649115Z"
    },
    "papermill": {
     "duration": 0.014869,
     "end_time": "2023-12-02T14:32:14.652207",
     "exception": false,
     "start_time": "2023-12-02T14:32:14.637338",
     "status": "completed"
    },
    "tags": []
   },
   "outputs": [],
   "source": [
    "#q4.hint()\n",
    "#q4.solution()"
   ]
  },
  {
   "cell_type": "markdown",
   "id": "04cbe902",
   "metadata": {
    "papermill": {
     "duration": 0.008889,
     "end_time": "2023-12-02T14:32:14.669221",
     "exception": false,
     "start_time": "2023-12-02T14:32:14.660332",
     "status": "completed"
    },
    "tags": []
   },
   "source": [
    "## 5.\n",
    "I'm an economical wine buyer. Which wine is the \"best bargain\"? Create a variable `bargain_wine` with the title of the wine with the highest points-to-price ratio in the dataset."
   ]
  },
  {
   "cell_type": "code",
   "execution_count": 10,
   "id": "4ed06a0f",
   "metadata": {
    "execution": {
     "iopub.execute_input": "2023-12-02T14:32:14.685833Z",
     "iopub.status.busy": "2023-12-02T14:32:14.685431Z",
     "iopub.status.idle": "2023-12-02T14:32:14.700324Z",
     "shell.execute_reply": "2023-12-02T14:32:14.699370Z"
    },
    "papermill": {
     "duration": 0.025667,
     "end_time": "2023-12-02T14:32:14.702399",
     "exception": false,
     "start_time": "2023-12-02T14:32:14.676732",
     "status": "completed"
    },
    "tags": []
   },
   "outputs": [
    {
     "data": {
      "application/javascript": [
       "parent.postMessage({\"jupyterEvent\": \"custom.exercise_interaction\", \"data\": {\"outcomeType\": 1, \"valueTowardsCompletion\": 0.14285714285714285, \"interactionType\": 1, \"questionType\": 2, \"questionId\": \"5_BargainWine\", \"learnToolsVersion\": \"0.3.4\", \"failureMessage\": \"\", \"exceptionClass\": \"\", \"trace\": \"\"}}, \"*\")"
      ],
      "text/plain": [
       "<IPython.core.display.Javascript object>"
      ]
     },
     "metadata": {},
     "output_type": "display_data"
    },
    {
     "data": {
      "text/markdown": [
       "<span style=\"color:#33cc33\">Correct</span>"
      ],
      "text/plain": [
       "Correct"
      ]
     },
     "metadata": {},
     "output_type": "display_data"
    }
   ],
   "source": [
    "bargain_idx = (reviews.points / reviews.price).idxmax()\n",
    "bargain_wine = reviews.loc[bargain_idx, 'title']\n",
    "\n",
    "# Check your answer\n",
    "q5.check()"
   ]
  },
  {
   "cell_type": "code",
   "execution_count": 11,
   "id": "a33c169e",
   "metadata": {
    "execution": {
     "iopub.execute_input": "2023-12-02T14:32:14.720789Z",
     "iopub.status.busy": "2023-12-02T14:32:14.719726Z",
     "iopub.status.idle": "2023-12-02T14:32:14.723970Z",
     "shell.execute_reply": "2023-12-02T14:32:14.723147Z"
    },
    "papermill": {
     "duration": 0.01583,
     "end_time": "2023-12-02T14:32:14.726049",
     "exception": false,
     "start_time": "2023-12-02T14:32:14.710219",
     "status": "completed"
    },
    "tags": []
   },
   "outputs": [],
   "source": [
    "#q5.hint()\n",
    "#q5.solution()"
   ]
  },
  {
   "cell_type": "markdown",
   "id": "074c240a",
   "metadata": {
    "papermill": {
     "duration": 0.007548,
     "end_time": "2023-12-02T14:32:14.741688",
     "exception": false,
     "start_time": "2023-12-02T14:32:14.734140",
     "status": "completed"
    },
    "tags": []
   },
   "source": [
    "## 6.\n",
    "There are only so many words you can use when describing a bottle of wine. Is a wine more likely to be \"tropical\" or \"fruity\"? Create a Series `descriptor_counts` counting how many times each of these two words appears in the `description` column in the dataset. (For simplicity, let's ignore the capitalized versions of these words.)"
   ]
  },
  {
   "cell_type": "code",
   "execution_count": 12,
   "id": "dcf79897",
   "metadata": {
    "execution": {
     "iopub.execute_input": "2023-12-02T14:32:14.759277Z",
     "iopub.status.busy": "2023-12-02T14:32:14.758641Z",
     "iopub.status.idle": "2023-12-02T14:32:14.894468Z",
     "shell.execute_reply": "2023-12-02T14:32:14.893284Z"
    },
    "papermill": {
     "duration": 0.147101,
     "end_time": "2023-12-02T14:32:14.896605",
     "exception": false,
     "start_time": "2023-12-02T14:32:14.749504",
     "status": "completed"
    },
    "tags": []
   },
   "outputs": [
    {
     "data": {
      "application/javascript": [
       "parent.postMessage({\"jupyterEvent\": \"custom.exercise_interaction\", \"data\": {\"outcomeType\": 1, \"valueTowardsCompletion\": 0.14285714285714285, \"interactionType\": 1, \"questionType\": 1, \"questionId\": \"6_DescriptorCounts\", \"learnToolsVersion\": \"0.3.4\", \"failureMessage\": \"\", \"exceptionClass\": \"\", \"trace\": \"\"}}, \"*\")"
      ],
      "text/plain": [
       "<IPython.core.display.Javascript object>"
      ]
     },
     "metadata": {},
     "output_type": "display_data"
    },
    {
     "data": {
      "text/markdown": [
       "<span style=\"color:#33cc33\">Correct</span>"
      ],
      "text/plain": [
       "Correct"
      ]
     },
     "metadata": {},
     "output_type": "display_data"
    }
   ],
   "source": [
    "n_trop = reviews.description.map(lambda desc: \"tropical\" in desc).sum()\n",
    "n_fruity = reviews.description.map(lambda desc: \"fruity\" in desc).sum()\n",
    "descriptor_counts = pd.Series([n_trop, n_fruity], index=['tropical', 'fruity'])\n",
    "\n",
    "# Check your answer\n",
    "q6.check()"
   ]
  },
  {
   "cell_type": "code",
   "execution_count": 13,
   "id": "17c0045c",
   "metadata": {
    "execution": {
     "iopub.execute_input": "2023-12-02T14:32:14.915350Z",
     "iopub.status.busy": "2023-12-02T14:32:14.914963Z",
     "iopub.status.idle": "2023-12-02T14:32:14.918636Z",
     "shell.execute_reply": "2023-12-02T14:32:14.917800Z"
    },
    "papermill": {
     "duration": 0.01601,
     "end_time": "2023-12-02T14:32:14.920633",
     "exception": false,
     "start_time": "2023-12-02T14:32:14.904623",
     "status": "completed"
    },
    "tags": []
   },
   "outputs": [],
   "source": [
    "#q6.hint()\n",
    "#q6.solution()"
   ]
  },
  {
   "cell_type": "markdown",
   "id": "5af89c20",
   "metadata": {
    "papermill": {
     "duration": 0.008877,
     "end_time": "2023-12-02T14:32:14.937846",
     "exception": false,
     "start_time": "2023-12-02T14:32:14.928969",
     "status": "completed"
    },
    "tags": []
   },
   "source": [
    "## 7.\n",
    "We'd like to host these wine reviews on our website, but a rating system ranging from 80 to 100 points is too hard to understand - we'd like to translate them into simple star ratings. A score of 95 or higher counts as 3 stars, a score of at least 85 but less than 95 is 2 stars. Any other score is 1 star.\n",
    "\n",
    "Also, the Canadian Vintners Association bought a lot of ads on the site, so any wines from Canada should automatically get 3 stars, regardless of points.\n",
    "\n",
    "Create a series `star_ratings` with the number of stars corresponding to each review in the dataset."
   ]
  },
  {
   "cell_type": "code",
   "execution_count": 14,
   "id": "325c358e",
   "metadata": {
    "execution": {
     "iopub.execute_input": "2023-12-02T14:32:14.956873Z",
     "iopub.status.busy": "2023-12-02T14:32:14.955775Z",
     "iopub.status.idle": "2023-12-02T14:32:18.251205Z",
     "shell.execute_reply": "2023-12-02T14:32:18.250161Z"
    },
    "papermill": {
     "duration": 3.307494,
     "end_time": "2023-12-02T14:32:18.253419",
     "exception": false,
     "start_time": "2023-12-02T14:32:14.945925",
     "status": "completed"
    },
    "tags": []
   },
   "outputs": [
    {
     "data": {
      "application/javascript": [
       "parent.postMessage({\"jupyterEvent\": \"custom.exercise_interaction\", \"data\": {\"outcomeType\": 1, \"valueTowardsCompletion\": 0.14285714285714285, \"interactionType\": 1, \"questionType\": 1, \"questionId\": \"7_StarRatings\", \"learnToolsVersion\": \"0.3.4\", \"failureMessage\": \"\", \"exceptionClass\": \"\", \"trace\": \"\"}}, \"*\")"
      ],
      "text/plain": [
       "<IPython.core.display.Javascript object>"
      ]
     },
     "metadata": {},
     "output_type": "display_data"
    },
    {
     "data": {
      "text/markdown": [
       "<span style=\"color:#33cc33\">Correct</span>"
      ],
      "text/plain": [
       "Correct"
      ]
     },
     "metadata": {},
     "output_type": "display_data"
    }
   ],
   "source": [
    "def stars(row):\n",
    "    if row.country == 'Canada':\n",
    "        return 3\n",
    "    elif row.points >= 95:\n",
    "        return 3\n",
    "    elif row.points >= 85:\n",
    "        return 2\n",
    "    else:\n",
    "        return 1\n",
    "star_ratings = reviews.apply(stars, axis='columns')\n",
    "\n",
    "# Check your answer\n",
    "q7.check()"
   ]
  },
  {
   "cell_type": "code",
   "execution_count": 15,
   "id": "2c8c9018",
   "metadata": {
    "execution": {
     "iopub.execute_input": "2023-12-02T14:32:18.272856Z",
     "iopub.status.busy": "2023-12-02T14:32:18.272447Z",
     "iopub.status.idle": "2023-12-02T14:32:18.276705Z",
     "shell.execute_reply": "2023-12-02T14:32:18.275579Z"
    },
    "papermill": {
     "duration": 0.0167,
     "end_time": "2023-12-02T14:32:18.278893",
     "exception": false,
     "start_time": "2023-12-02T14:32:18.262193",
     "status": "completed"
    },
    "tags": []
   },
   "outputs": [],
   "source": [
    "# q7.hint()\n",
    "# q7.solution()"
   ]
  },
  {
   "cell_type": "markdown",
   "id": "034fb761",
   "metadata": {
    "papermill": {
     "duration": 0.007908,
     "end_time": "2023-12-02T14:32:18.295369",
     "exception": false,
     "start_time": "2023-12-02T14:32:18.287461",
     "status": "completed"
    },
    "tags": []
   },
   "source": [
    "# Keep going\n",
    "Continue to **[grouping and sorting](https://www.kaggle.com/residentmario/grouping-and-sorting)**."
   ]
  },
  {
   "cell_type": "markdown",
   "id": "173149f8",
   "metadata": {
    "papermill": {
     "duration": 0.007922,
     "end_time": "2023-12-02T14:32:18.311461",
     "exception": false,
     "start_time": "2023-12-02T14:32:18.303539",
     "status": "completed"
    },
    "tags": []
   },
   "source": [
    "---\n",
    "\n",
    "\n",
    "\n",
    "\n",
    "*Have questions or comments? Visit the [course discussion forum](https://www.kaggle.com/learn/pandas/discussion) to chat with other learners.*"
   ]
  }
 ],
 "metadata": {
  "kaggle": {
   "accelerator": "none",
   "dataSources": [
    {
     "datasetId": 655,
     "sourceId": 1252,
     "sourceType": "datasetVersion"
    },
    {
     "datasetId": 2321,
     "sourceId": 3919,
     "sourceType": "datasetVersion"
    },
    {
     "datasetId": 2894,
     "sourceId": 4877,
     "sourceType": "datasetVersion"
    },
    {
     "datasetId": 3491,
     "sourceId": 5624,
     "sourceType": "datasetVersion"
    },
    {
     "datasetId": 1442,
     "sourceId": 8172,
     "sourceType": "datasetVersion"
    },
    {
     "datasetId": 9366,
     "sourceId": 13206,
     "sourceType": "datasetVersion"
    },
    {
     "datasetId": 179555,
     "sourceId": 403916,
     "sourceType": "datasetVersion"
    },
    {
     "datasetId": 4549,
     "sourceId": 466349,
     "sourceType": "datasetVersion"
    },
    {
     "datasetId": 2478,
     "sourceId": 1151655,
     "sourceType": "datasetVersion"
    },
    {
     "datasetId": 10128,
     "sourceId": 5438389,
     "sourceType": "datasetVersion"
    }
   ],
   "isGpuEnabled": false,
   "isInternetEnabled": false,
   "language": "python",
   "sourceType": "notebook"
  },
  "kernelspec": {
   "display_name": "Python 3",
   "language": "python",
   "name": "python3"
  },
  "language_info": {
   "codemirror_mode": {
    "name": "ipython",
    "version": 3
   },
   "file_extension": ".py",
   "mimetype": "text/x-python",
   "name": "python",
   "nbconvert_exporter": "python",
   "pygments_lexer": "ipython3",
   "version": "3.10.12"
  },
  "papermill": {
   "default_parameters": {},
   "duration": 14.485647,
   "end_time": "2023-12-02T14:32:18.840686",
   "environment_variables": {},
   "exception": null,
   "input_path": "__notebook__.ipynb",
   "output_path": "__notebook__.ipynb",
   "parameters": {},
   "start_time": "2023-12-02T14:32:04.355039",
   "version": "2.4.0"
  }
 },
 "nbformat": 4,
 "nbformat_minor": 5
}
